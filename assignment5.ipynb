{
 "cells": [
  {
   "cell_type": "code",
   "execution_count": 61,
   "metadata": {},
   "outputs": [],
   "source": [
    "import random as rnd\n",
    "class Team:\n",
    "    LUCK = 0.0    \n",
    "    def __init__(self, name, strength = None):\n",
    "        self.name = name\n",
    "        self.strength = strength if strength else rnd.uniform(0,1)\n",
    "    def __str__(self):\n",
    "        return self.name\n",
    "    def __repr__(self):\n",
    "        return self.name\n",
    "    def __lt__(self, t):\n",
    "        return self.strength < t.strength + rnd.gauss(0, Team.LUCK)"
   ]
  },
  {
   "cell_type": "code",
   "execution_count": 62,
   "metadata": {},
   "outputs": [],
   "source": [
    "teams_data = [[(\"Italy\", 6), (\"Wales\", 20), (\"Switzerland\", 14), (\"Turkey\", 39)], [(\"Belgium\", 1), (\"Denmark\", 9), (\"Finland\", 57), (\"Russia\", 35)], [(\"Netherlands\", 10), (\"Austria\", 30), (\"Ukraine\", 27), (\"North Macedonia\", 67)], [(\"England\", 5), (\"Croatia\", 15), (\"Czech Republic\", 31), (\"Scotland\", 40)], [(\"Sweden\", 17), (\"Spain\", 7), (\"Slovakia\", 46), (\"Poland\", 28)], [(\"France\", 3), (\"Germany\", 11), (\"Portugal\", 8), (\"Hungary\", 41)]]"
   ]
  },
  {
   "cell_type": "code",
   "execution_count": 73,
   "metadata": {},
   "outputs": [
    {
     "name": "stdout",
     "output_type": "stream",
     "text": [
      "[[Italy, Wales, Switzerland, Turkey], [Belgium, Denmark, Finland, Russia], [Netherlands, Austria, Ukraine, North Macedonia], [England, Croatia, Czech Republic, Scotland], [Sweden, Spain, Slovakia, Poland], [France, Germany, Portugal, Hungary]]\n"
     ]
    }
   ],
   "source": [
    "ratings = sum([[rating for _,rating in group_data] \n",
    "               for group_data in teams_data], [])\n",
    "smallest = min(ratings)\n",
    "largest = max(ratings)\n",
    "teams = [[Team(name, 1 - (rating - smallest) / (largest - smallest))\n",
    "         for name,rating in group_data] for group_data in teams_data]\n",
    "print(teams)"
   ]
  },
  {
   "cell_type": "code",
   "execution_count": 74,
   "metadata": {},
   "outputs": [
    {
     "name": "stdout",
     "output_type": "stream",
     "text": [
      "[[Italy, Switzerland, Wales, Turkey], [Belgium, Denmark, Russia, Finland], [Netherlands, Ukraine, Austria, North Macedonia], [England, Croatia, Czech Republic, Scotland], [Spain, Sweden, Poland, Slovakia], [France, Portugal, Germany, Hungary]]\n"
     ]
    }
   ],
   "source": [
    "after_groups = [sorted(group, reverse=True) for group in teams]\n",
    "third_placers = sorted([g[2] for g in after_groups], reverse=True)[:4]\n",
    "winners = sum([g[:2] for g in after_groups], [])\n",
    "teams16 = winners + third_placers\n",
    "print(after_groups)\n"
   ]
  },
  {
   "cell_type": "code",
   "execution_count": 75,
   "metadata": {},
   "outputs": [
    {
     "data": {
      "text/plain": [
       "[Switzerland, Netherlands, France, Denmark, Belgium, Portugal, England, Spain]"
      ]
     },
     "execution_count": 75,
     "metadata": {},
     "output_type": "execute_result"
    }
   ],
   "source": [
    "teams8"
   ]
  },
  {
   "cell_type": "code",
   "execution_count": 76,
   "metadata": {},
   "outputs": [
    {
     "data": {
      "text/plain": [
       "[Switzerland, France, Belgium, England]"
      ]
     },
     "execution_count": 76,
     "metadata": {},
     "output_type": "execute_result"
    }
   ],
   "source": [
    "teams4"
   ]
  },
  {
   "cell_type": "code",
   "execution_count": 77,
   "metadata": {},
   "outputs": [
    {
     "data": {
      "text/plain": [
       "[[France, Switzerland], [Belgium, England]]"
      ]
     },
     "execution_count": 77,
     "metadata": {},
     "output_type": "execute_result"
    }
   ],
   "source": [
    "teams2"
   ]
  },
  {
   "cell_type": "code",
   "execution_count": 78,
   "metadata": {},
   "outputs": [
    {
     "data": {
      "text/plain": [
       "(Belgium, France)"
      ]
     },
     "execution_count": 78,
     "metadata": {},
     "output_type": "execute_result"
    }
   ],
   "source": [
    "first,second"
   ]
  },
  {
   "cell_type": "code",
   "execution_count": 79,
   "metadata": {},
   "outputs": [
    {
     "data": {
      "text/plain": [
       "England"
      ]
     },
     "execution_count": 79,
     "metadata": {},
     "output_type": "execute_result"
    }
   ],
   "source": [
    "third"
   ]
  },
  {
   "cell_type": "code",
   "execution_count": null,
   "metadata": {},
   "outputs": [],
   "source": []
  }
 ],
 "metadata": {
  "kernelspec": {
   "display_name": "Python 3",
   "language": "python",
   "name": "python3"
  },
  "language_info": {
   "codemirror_mode": {
    "name": "ipython",
    "version": 3
   },
   "file_extension": ".py",
   "mimetype": "text/x-python",
   "name": "python",
   "nbconvert_exporter": "python",
   "pygments_lexer": "ipython3",
   "version": "3.8.10"
  }
 },
 "nbformat": 4,
 "nbformat_minor": 4
}
